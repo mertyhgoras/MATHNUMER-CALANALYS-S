{
 "cells": [
  {
   "cell_type": "markdown",
   "metadata": {},
   "source": [
    "## Question 2"
   ]
  },
  {
   "cell_type": "markdown",
   "metadata": {},
   "source": [
    "Sinüs değerleri ilk bölümlerde en son kısımda ise taylor açılımının toplamını veren yazılım var."
   ]
  },
  {
   "cell_type": "code",
   "execution_count": 1,
   "metadata": {},
   "outputs": [],
   "source": [
    "import math"
   ]
  },
  {
   "cell_type": "code",
   "execution_count": 4,
   "metadata": {},
   "outputs": [
    {
     "name": "stdout",
     "output_type": "stream",
     "text": [
      "sin(0.1) :\n"
     ]
    },
    {
     "data": {
      "text/plain": [
       "(None, 0.09983341664682815)"
      ]
     },
     "execution_count": 4,
     "metadata": {},
     "output_type": "execute_result"
    }
   ],
   "source": [
    "print (\"sin(0.1) :\"),  math.sin(0.1)"
   ]
  },
  {
   "cell_type": "code",
   "execution_count": 7,
   "metadata": {},
   "outputs": [
    {
     "name": "stdout",
     "output_type": "stream",
     "text": [
      "sin(0.2) :\n"
     ]
    },
    {
     "data": {
      "text/plain": [
       "(None, 0.19866933079506122)"
      ]
     },
     "execution_count": 7,
     "metadata": {},
     "output_type": "execute_result"
    }
   ],
   "source": [
    "print (\"sin(0.2) :\"),  math.sin(0.2)"
   ]
  },
  {
   "cell_type": "code",
   "execution_count": 8,
   "metadata": {},
   "outputs": [
    {
     "name": "stdout",
     "output_type": "stream",
     "text": [
      "sin(0.5) :\n"
     ]
    },
    {
     "data": {
      "text/plain": [
       "(None, 0.479425538604203)"
      ]
     },
     "execution_count": 8,
     "metadata": {},
     "output_type": "execute_result"
    }
   ],
   "source": [
    "print (\"sin(0.5) :\"),  math.sin(0.5)"
   ]
  },
  {
   "cell_type": "code",
   "execution_count": 9,
   "metadata": {},
   "outputs": [
    {
     "name": "stdout",
     "output_type": "stream",
     "text": [
      "sin(1) :\n"
     ]
    },
    {
     "data": {
      "text/plain": [
       "(None, 0.8414709848078965)"
      ]
     },
     "execution_count": 9,
     "metadata": {},
     "output_type": "execute_result"
    }
   ],
   "source": [
    "print (\"sin(1) :\"),  math.sin(1)"
   ]
  },
  {
   "cell_type": "code",
   "execution_count": 16,
   "metadata": {},
   "outputs": [
    {
     "name": "stdout",
     "output_type": "stream",
     "text": [
      "Enter the value of x: 1\n",
      "Enter the value of n: 9\n",
      "sin( 1.0 ) = 0.8414710097001764\n"
     ]
    }
   ],
   "source": [
    "x = float(input(\"Enter the value of x: \"))\n",
    "n = int(input(\"Enter the value of n: \"))\n",
    "sign = -1\n",
    "fact = i =1\n",
    "sum = 0\n",
    "while i<=n:\n",
    "    p = 1\n",
    "    fact = 1\n",
    "    for j in range(1,i+1):\n",
    "        p = p*x\n",
    "        fact = fact*j\n",
    "    sign = -1*sign\n",
    "    sum = sum + sign* p/fact\n",
    "    i = i+2\n",
    "print(\"sin(\",x,\") =\",sum)"
   ]
  },
  {
   "cell_type": "code",
   "execution_count": 18,
   "metadata": {},
   "outputs": [
    {
     "name": "stdout",
     "output_type": "stream",
     "text": [
      "Enter the value of x: 0.1\n",
      "Enter the value of n: 9\n",
      "sin( 0.1 ) = 0.09983341664682817\n"
     ]
    }
   ],
   "source": [
    "x = float(input(\"Enter the value of x: \"))\n",
    "n = int(input(\"Enter the value of n: \"))\n",
    "sign = -1\n",
    "fact = i =1\n",
    "sum = 0\n",
    "while i<=n:\n",
    "    p = 1\n",
    "    fact = 1\n",
    "    for j in range(1,i+1):\n",
    "        p = p*x\n",
    "        fact = fact*j\n",
    "    sign = -1*sign\n",
    "    sum = sum + sign* p/fact\n",
    "    i = i+2\n",
    "print(\"sin(\",x,\") =\",sum)"
   ]
  },
  {
   "cell_type": "code",
   "execution_count": 19,
   "metadata": {},
   "outputs": [
    {
     "name": "stdout",
     "output_type": "stream",
     "text": [
      "Enter the value of x: 0.2\n",
      "Enter the value of n: 9\n",
      "sin( 0.2 ) = 0.19866933079506174\n"
     ]
    }
   ],
   "source": [
    "x = float(input(\"Enter the value of x: \"))\n",
    "n = int(input(\"Enter the value of n: \"))\n",
    "sign = -1\n",
    "fact = i =1\n",
    "sum = 0\n",
    "while i<=n:\n",
    "    p = 1\n",
    "    fact = 1\n",
    "    for j in range(1,i+1):\n",
    "        p = p*x\n",
    "        fact = fact*j\n",
    "    sign = -1*sign\n",
    "    sum = sum + sign* p/fact\n",
    "    i = i+2\n",
    "print(\"sin(\",x,\") =\",sum)\n"
   ]
  },
  {
   "cell_type": "code",
   "execution_count": 20,
   "metadata": {},
   "outputs": [
    {
     "name": "stdout",
     "output_type": "stream",
     "text": [
      "Enter the value of x: 0.5\n",
      "Enter the value of n: 9\n",
      "sin( 0.5 ) = 0.4794255386164159\n"
     ]
    }
   ],
   "source": [
    "x = float(input(\"Enter the value of x: \"))\n",
    "n = int(input(\"Enter the value of n: \"))\n",
    "sign = -1\n",
    "fact = i =1\n",
    "sum = 0\n",
    "while i<=n:\n",
    "    p = 1\n",
    "    fact = 1\n",
    "    for j in range(1,i+1):\n",
    "        p = p*x\n",
    "        fact = fact*j\n",
    "    sign = -1*sign\n",
    "    sum = sum + sign* p/fact\n",
    "    i = i+2\n",
    "print(\"sin(\",x,\") =\",sum)"
   ]
  },
  {
   "cell_type": "markdown",
   "metadata": {},
   "source": [
    "## Question 9"
   ]
  },
  {
   "cell_type": "code",
   "execution_count": 10,
   "metadata": {},
   "outputs": [
    {
     "name": "stdout",
     "output_type": "stream",
     "text": [
      "Question 9 - Bisection method\n",
      "r1 = 1.5601005554199219\n",
      "f(r1) = 2.2853012559276298e-06\n"
     ]
    }
   ],
   "source": [
    "#Bisection method\n",
    "\n",
    "import numpy as np\n",
    "import math\n",
    "def my_bisection(f, a, b, tol): \n",
    "    # approximates a root, R, of f bounded \n",
    "    # by a and b to within tolerance \n",
    "    # | f(m) | < tol with m the midpoint \n",
    "    # between a and b Recursive implementation\n",
    "    \n",
    "    # check if a and b bound a root\n",
    "    if np.sign(f(a)) == np.sign(f(b)):\n",
    "        raise Exception(\n",
    "         \"The scalars a and b do not bound a root\")\n",
    "        \n",
    "    # get midpoint\n",
    "    m = (a + b)/2\n",
    "    \n",
    "    if np.abs(f(m)) < tol:\n",
    "        # stopping condition, report m as root\n",
    "        return m\n",
    "    elif np.sign(f(a)) == np.sign(f(m)):\n",
    "        # case where m is an improvement on a. \n",
    "        # Make recursive call with a = m\n",
    "        return my_bisection(f, m, b, tol)\n",
    "    elif np.sign(f(b)) == np.sign(f(m)):\n",
    "        # case where m is an improvement on b. \n",
    "        # Make recursive call with b = m\n",
    "        return my_bisection(f, a, m, tol)\n",
    "\n",
    "f = lambda x: math.exp(-2*x)*x+x*(math.cos(x))-4*(math.sin(2*x))\n",
    "\n",
    "r1 = my_bisection(f, 1, 2, 0.00001)\n",
    "\n",
    "print(\"Question 9 - Bisection method\")\n",
    "print(\"r1 =\", r1)\n",
    "\n",
    "print(\"f(r1) =\", f(r1))"
   ]
  },
  {
   "cell_type": "code",
   "execution_count": 11,
   "metadata": {},
   "outputs": [
    {
     "name": "stdout",
     "output_type": "stream",
     "text": [
      "Enter x1 : 1\n",
      "Enter x2 : 2\n",
      "Question 9 - Regula Falsi\n",
      " The root  is 1.558103 at 99 false position.\n"
     ]
    }
   ],
   "source": [
    "# Regula Falsi\n",
    "def rfalsi(f,x1,x2,tol= 0.00001 ,maxfpos=100):\n",
    "  xh = 0\n",
    " \n",
    "  if f(x1) * f(x2) < 0:\n",
    "   for fpos in range(maxfpos):\n",
    "      xh = x2-(x2-x1)/ (f(x2)-f(x1))* f(x2)\n",
    "      if abs(f(xh)) < tol : break\n",
    "      elif f(x1) * f(xh) < 0 :\n",
    "        x2 = xh\n",
    "  else:\n",
    "    print(\" no root exist within the given interval.\") \n",
    "  return xh,fpos\n",
    "\n",
    "y = lambda x:  math.exp(-2*x)*x+x*(math.cos(x))-4*(math.sin(2*x))\n",
    "x1 = float(input('Enter x1 : '))    \n",
    "x2 = float(input('Enter x2 : ')) \n",
    "\n",
    "r,n = rfalsi( y, x1, x2)\n",
    "print(\"Question 9 - Regula Falsi\")\n",
    "\n",
    "print(\" The root  is %f at %d false position.\" %(r,n))"
   ]
  },
  {
   "cell_type": "code",
   "execution_count": 12,
   "metadata": {},
   "outputs": [
    {
     "name": "stdout",
     "output_type": "stream",
     "text": [
      "Enter x1: 1\n",
      "Enter x2 : 2\n",
      "Question 9 - Secant\n",
      " root is 1.560100 at 3 iterations\n"
     ]
    }
   ],
   "source": [
    "def secant(fn,x1,x2,tol,maxiter):\n",
    "  for i in range (maxiter):\n",
    "    xnew = x2- (x2-x1)/ (fn(x2)-fn(x1))* fn(x2)\n",
    "    if abs(xnew-x2) < tol : break\n",
    "    else:\n",
    "      x1 = x2\n",
    "      x2 = xnew\n",
    "  else:\n",
    "    print( \" warning  maximum number of iteration is ratched\")\n",
    "  return xnew, i\n",
    "f = lambda x : math.exp(-2*x)*x+x*(math.cos(x))-4*(math.sin(2*x))\n",
    "x1 = float(input(\"Enter x1: \"))\n",
    "x2 = float(input('Enter x2 : '))\n",
    "r,n = secant ( f, x1, x2, 0.00001,100)\n",
    "print(\"Question 9 - Secant\")\n",
    "\n",
    "print( \" root is %f at %d iterations\" %(r,n))"
   ]
  },
  {
   "cell_type": "code",
   "execution_count": 11,
   "metadata": {},
   "outputs": [
    {
     "name": "stdout",
     "output_type": "stream",
     "text": [
      "Enter Guess: 1\n",
      "Tolerable Error: 0.00001\n",
      "Maximum Step: 150\n",
      "Iteration-1, x1 = 2.023812 and f(x1) = 2.297812\n",
      "Iteration-2, x1 = 1.148260 and f(x1) = -2.405680\n",
      "Iteration-3, x1 = 1.677938 and f(x1) = 0.729681\n",
      "Iteration-4, x1 = 1.555500 and f(x1) = -0.029249\n",
      "Iteration-5, x1 = 1.560098 and f(x1) = -0.000016\n",
      "Iteration-6, x1 = 1.560100 and f(x1) = -0.000000\n",
      "\n",
      "Required root is: 1.56010020\n"
     ]
    }
   ],
   "source": [
    "import math\n",
    "def f(x):\n",
    "    return math.exp(-2*x)*x+x*(math.cos(x))-4*(math.sin(2*x))\n",
    "\n",
    "# Defining derivative of function\n",
    "def g(x):\n",
    "    return -8*math.cos(2*x)-x*math.sin(x)+math.cos(x)-2*x*(math.exp(-2*x))+ math.exp(-2*x)\n",
    "\n",
    "# Implementing Newton Raphson Method\n",
    "\n",
    "def newtonRaphson(x0,e,N):\n",
    "\n",
    "    step = 1\n",
    "    flag = 1\n",
    "    condition = True\n",
    "    while condition:\n",
    "        if g(x0) == 0.0:\n",
    "            print('Divide by zero error!')\n",
    "            break\n",
    "        \n",
    "        x1 = x0 - f(x0)/g(x0)\n",
    "        print('Iteration-%d, x1 = %0.6f and f(x1) = %0.6f' % (step, x1, f(x1)))\n",
    "        x0 = x1\n",
    "        step = step + 1\n",
    "        \n",
    "        if step > N:\n",
    "            flag = 0\n",
    "            break\n",
    "        \n",
    "        condition = abs(f(x1)) > e\n",
    "    \n",
    "    if flag==1:\n",
    "        print('\\nRequired root is: %0.8f' % x1)\n",
    "    else:\n",
    "        print('\\nNot Convergent.')\n",
    "\n",
    "x0 = float(input('Enter Guess: '))\n",
    "e = float(input('Tolerable Error: '))\n",
    "N = int(input('Maximum Step: '))\n",
    "\n",
    "\n",
    "newtonRaphson(x0,e,N)"
   ]
  },
  {
   "cell_type": "markdown",
   "metadata": {},
   "source": [
    "## Question 10"
   ]
  },
  {
   "cell_type": "markdown",
   "metadata": {},
   "source": [
    "## for f1(x)"
   ]
  },
  {
   "cell_type": "code",
   "execution_count": 3,
   "metadata": {},
   "outputs": [
    {
     "name": "stdout",
     "output_type": "stream",
     "text": [
      "f1(x)\n",
      "Enter Guess: 1\n",
      "Tolerable Error: 0.001\n",
      "Maximum Step: 50\n",
      "\n",
      "\n",
      "*** NEWTON RAPHSON METHOD IMPLEMENTATION ***\n",
      "Iteration-1, x1 = 2.000000 and f(x1) = -2.000000\n",
      "Iteration-2, x1 = 1.500000 and f(x1) = -0.875000\n",
      "Iteration-3, x1 = 0.333333 and f(x1) = -1.814815\n",
      "Iteration-4, x1 = 2.148148 and f(x1) = -2.683636\n",
      "Iteration-5, x1 = 1.637080 and f(x1) = -1.027363\n",
      "Iteration-6, x1 = 0.948393 and f(x1) = -1.054133\n",
      "Iteration-7, x1 = 1.910874 and f(x1) = -1.674562\n",
      "Iteration-8, x1 = 1.405090 and f(x1) = -0.825482\n",
      "Iteration-9, x1 = -1.324018 and f(x1) = 3.827083\n",
      "Iteration-10, x1 = -0.961438 and f(x1) = 0.737445\n",
      "Iteration-11, x1 = -0.850022 and f(x1) = 0.059248\n",
      "Iteration-12, x1 = -0.839381 and f(x1) = 0.000514\n",
      "\n",
      "Required root is: -0.83938072\n"
     ]
    }
   ],
   "source": [
    "# Defining Function\n",
    "\n",
    "def f(x):\n",
    "    return -x**3+2*x**2-2\n",
    "\n",
    "# Defining derivative of function\n",
    "def g(x):\n",
    "    return -3*x**2+4*x\n",
    "\n",
    "# Implementing Newton Raphson Method\n",
    "\n",
    "def newtonRaphson(x0,e,N):\n",
    "    print('\\n\\n*** NEWTON RAPHSON METHOD IMPLEMENTATION ***')\n",
    "    step = 1\n",
    "    flag = 1\n",
    "    condition = True\n",
    "    while condition:\n",
    "        if g(x0) == 0.0:\n",
    "            print('Divide by zero error!')\n",
    "            break\n",
    "        \n",
    "        x1 = x0 - f(x0)/g(x0)\n",
    "        print('Iteration-%d, x1 = %0.6f and f(x1) = %0.6f' % (step, x1, f(x1)))\n",
    "        x0 = x1\n",
    "        step = step + 1\n",
    "        \n",
    "        if step > N:\n",
    "            flag = 0\n",
    "            break\n",
    "        \n",
    "        condition = abs(f(x1)) > e\n",
    "    \n",
    "    if flag==1:\n",
    "        print('\\nRequired root is: %0.8f' % x1)\n",
    "    else:\n",
    "        print('\\nNot Convergent.')\n",
    "\n",
    "\n",
    "# Input Section\n",
    "print(\"f1(x)\")\n",
    "x0 = float(input('Enter Guess: '))\n",
    "e = float(input('Tolerable Error: '))\n",
    "N = int(input('Maximum Step: '))\n",
    "\n",
    "\n",
    "# Starting Newton Raphson Method\n",
    "newtonRaphson(x0,e,N)"
   ]
  },
  {
   "cell_type": "markdown",
   "metadata": {},
   "source": [
    "## for f2(x)"
   ]
  },
  {
   "cell_type": "code",
   "execution_count": 4,
   "metadata": {
    "scrolled": false
   },
   "outputs": [
    {
     "name": "stdout",
     "output_type": "stream",
     "text": [
      "f2(x)\n",
      "Enter Guess: 0\n",
      "Tolerable Error: 0.001\n",
      "Maximum Step: 50\n",
      "\n",
      "\n",
      "*** NEWTON RAPHSON METHOD IMPLEMENTATION ***\n",
      "Divide by zero error!\n"
     ]
    },
    {
     "ename": "UnboundLocalError",
     "evalue": "local variable 'x1' referenced before assignment",
     "output_type": "error",
     "traceback": [
      "\u001b[0;31m---------------------------------------------------------------------------\u001b[0m",
      "\u001b[0;31mUnboundLocalError\u001b[0m                         Traceback (most recent call last)",
      "\u001b[0;32m<ipython-input-4-0acca3564788>\u001b[0m in \u001b[0;36m<module>\u001b[0;34m\u001b[0m\n\u001b[1;32m     44\u001b[0m \u001b[0;34m\u001b[0m\u001b[0m\n\u001b[1;32m     45\u001b[0m \u001b[0;31m# Starting Newton Raphson Method\u001b[0m\u001b[0;34m\u001b[0m\u001b[0;34m\u001b[0m\u001b[0;34m\u001b[0m\u001b[0m\n\u001b[0;32m---> 46\u001b[0;31m \u001b[0mnewtonRaphson\u001b[0m\u001b[0;34m(\u001b[0m\u001b[0mx0\u001b[0m\u001b[0;34m,\u001b[0m\u001b[0me\u001b[0m\u001b[0;34m,\u001b[0m\u001b[0mN\u001b[0m\u001b[0;34m)\u001b[0m\u001b[0;34m\u001b[0m\u001b[0;34m\u001b[0m\u001b[0m\n\u001b[0m",
      "\u001b[0;32m<ipython-input-4-0acca3564788>\u001b[0m in \u001b[0;36mnewtonRaphson\u001b[0;34m(x0, e, N)\u001b[0m\n\u001b[1;32m     31\u001b[0m \u001b[0;34m\u001b[0m\u001b[0m\n\u001b[1;32m     32\u001b[0m     \u001b[0;32mif\u001b[0m \u001b[0mflag\u001b[0m\u001b[0;34m==\u001b[0m\u001b[0;36m1\u001b[0m\u001b[0;34m:\u001b[0m\u001b[0;34m\u001b[0m\u001b[0;34m\u001b[0m\u001b[0m\n\u001b[0;32m---> 33\u001b[0;31m         \u001b[0mprint\u001b[0m\u001b[0;34m(\u001b[0m\u001b[0;34m'\\nRequired root is: %0.8f'\u001b[0m \u001b[0;34m%\u001b[0m \u001b[0mx1\u001b[0m\u001b[0;34m)\u001b[0m\u001b[0;34m\u001b[0m\u001b[0;34m\u001b[0m\u001b[0m\n\u001b[0m\u001b[1;32m     34\u001b[0m     \u001b[0;32melse\u001b[0m\u001b[0;34m:\u001b[0m\u001b[0;34m\u001b[0m\u001b[0;34m\u001b[0m\u001b[0m\n\u001b[1;32m     35\u001b[0m         \u001b[0mprint\u001b[0m\u001b[0;34m(\u001b[0m\u001b[0;34m'\\nNot Convergent.'\u001b[0m\u001b[0;34m)\u001b[0m\u001b[0;34m\u001b[0m\u001b[0;34m\u001b[0m\u001b[0m\n",
      "\u001b[0;31mUnboundLocalError\u001b[0m: local variable 'x1' referenced before assignment"
     ]
    }
   ],
   "source": [
    "# Defining Function\n",
    "def f(x):\n",
    "    return x**3-2*x**2+2\n",
    "\n",
    "# Defining derivative of function\n",
    "def g(x):\n",
    "    return 3*x**2-4*x\n",
    "\n",
    "# Implementing Newton Raphson Method\n",
    "\n",
    "def newtonRaphson(x0,e,N):\n",
    "    print('\\n\\n*** NEWTON RAPHSON METHOD IMPLEMENTATION ***')\n",
    "    step = 1\n",
    "    flag = 1\n",
    "    condition = True\n",
    "    while condition:\n",
    "        if g(x0) == 0.0:\n",
    "            print('Divide by zero error!')\n",
    "            break\n",
    "        \n",
    "        x1 = x0 - f(x0)/g(x0)\n",
    "        print('Iteration-%d, x1 = %0.6f and f(x1) = %0.6f' % (step, x1, f(x1)))\n",
    "        x0 = x1\n",
    "        step = step + 1\n",
    "        \n",
    "        if step > N:\n",
    "            flag = 0\n",
    "            break\n",
    "        \n",
    "        condition = abs(f(x1)) > e\n",
    "    \n",
    "    if flag==1:\n",
    "        print('\\nRequired root is: %0.8f' % x1)\n",
    "    else:\n",
    "        print('\\nNot Convergent.')\n",
    "\n",
    "\n",
    "# Input Section\n",
    "print(\"f2(x)\")\n",
    "x0 = float(input('Enter Guess: '))\n",
    "e = float(input('Tolerable Error: '))\n",
    "N = int(input('Maximum Step: '))\n",
    "\n",
    "\n",
    "# Starting Newton Raphson Method\n",
    "newtonRaphson(x0,e,N)\n"
   ]
  },
  {
   "cell_type": "markdown",
   "metadata": {},
   "source": [
    "## for f3(x)"
   ]
  },
  {
   "cell_type": "code",
   "execution_count": 5,
   "metadata": {},
   "outputs": [
    {
     "name": "stdout",
     "output_type": "stream",
     "text": [
      "f3(x)\n",
      "Enter Guess: 5\n",
      "Tolerable Error: 0.001\n",
      "Maximum Step: 50\n",
      "\n",
      "\n",
      "*** NEWTON RAPHSON METHOD IMPLEMENTATION ***\n",
      "Iteration-1, x1 = 3.656000 and f(x1) = 19.248316\n",
      "Iteration-2, x1 = 2.746474 and f(x1) = 5.839041\n",
      "Iteration-3, x1 = 2.108363 and f(x1) = 1.873587\n",
      "Iteration-4, x1 = 1.599982 and f(x1) = 0.727980\n",
      "Iteration-5, x1 = 0.925885 and f(x1) = 0.511593\n",
      "Iteration-6, x1 = -30.119181 and f(x1) = -30135.410443\n",
      "Iteration-7, x1 = -19.746297 and f(x1) = -8928.877763\n",
      "Iteration-8, x1 = -12.831261 and f(x1) = -2645.460677\n",
      "Iteration-9, x1 = -8.221733 and f(x1) = -783.707482\n",
      "Iteration-10, x1 = -5.149829 and f(x1) = -232.076958\n",
      "Iteration-11, x1 = -3.104398 and f(x1) = -68.631053\n",
      "Iteration-12, x1 = -1.746397 and f(x1) = -20.203230\n",
      "Iteration-13, x1 = -0.853558 and f(x1) = -5.856225\n",
      "Iteration-14, x1 = -0.285380 and f(x1) = -1.611707\n",
      "Iteration-15, x1 = 0.039783 and f(x1) = -0.373335\n",
      "Iteration-16, x1 = 0.174754 and f(x1) = -0.050018\n",
      "Iteration-17, x1 = 0.199236 and f(x1) = -0.001469\n",
      "Iteration-18, x1 = 0.199999 and f(x1) = -0.000001\n",
      "\n",
      "Required root is: 0.19999927\n"
     ]
    }
   ],
   "source": [
    "# Defining Function\n",
    "def f(x):\n",
    "    return (x-1)**3+0.512\n",
    "\n",
    "# Defining derivative of function\n",
    "def g(x):\n",
    "    return 3*(x-1)**2\n",
    "\n",
    "# Implementing Newton Raphson Method\n",
    "\n",
    "def newtonRaphson(x0,e,N):\n",
    "    print('\\n\\n*** NEWTON RAPHSON METHOD IMPLEMENTATION ***')\n",
    "    step = 1\n",
    "    flag = 1\n",
    "    condition = True\n",
    "    while condition:\n",
    "        if g(x0) == 0.0:\n",
    "            print('Divide by zero error!')\n",
    "            break\n",
    "        \n",
    "        x1 = x0 - f(x0)/g(x0)\n",
    "        print('Iteration-%d, x1 = %0.6f and f(x1) = %0.6f' % (step, x1, f(x1)))\n",
    "        x0 = x1\n",
    "        step = step + 1\n",
    "        \n",
    "        if step > N:\n",
    "            flag = 0\n",
    "            break\n",
    "        \n",
    "        condition = abs(f(x1)) > e\n",
    "    \n",
    "    if flag==1:\n",
    "        print('\\nRequired root is: %0.8f' % x1)\n",
    "    else:\n",
    "        print('\\nNot Convergent.')\n",
    "\n",
    "\n",
    "# Input Section\n",
    "print(\"f3(x)\")\n",
    "x0 = float(input('Enter Guess: '))\n",
    "e = float(input('Tolerable Error: '))\n",
    "N = int(input('Maximum Step: '))\n",
    "\n",
    "\n",
    "# Starting Newton Raphson Method\n",
    "newtonRaphson(x0,e,N)"
   ]
  },
  {
   "cell_type": "markdown",
   "metadata": {},
   "source": [
    "## for f4(x)"
   ]
  },
  {
   "cell_type": "code",
   "execution_count": 6,
   "metadata": {},
   "outputs": [
    {
     "name": "stdout",
     "output_type": "stream",
     "text": [
      "f4(x)\n",
      "Enter Guess: 7.539822\n",
      "Tolerable Error: 0.001\n",
      "Maximum Step: 50\n",
      "\n",
      "\n",
      "*** NEWTON RAPHSON METHOD IMPLEMENTATION ***\n",
      "Iteration-1, x1 = 4.462142 and f(x1) = -0.968851\n",
      "Iteration-2, x1 = 0.549851 and f(x1) = 0.522560\n",
      "Iteration-3, x1 = -0.063049 and f(x1) = -0.063007\n",
      "Iteration-4, x1 = 0.000084 and f(x1) = 0.000084\n",
      "\n",
      "Required root is: 0.00008368\n"
     ]
    }
   ],
   "source": [
    "# Defining Function\n",
    "def f(x):\n",
    "    return math.sin(x)\n",
    "\n",
    "# Defining derivative of function\n",
    "def g(x):\n",
    "    return math.cos(x)\n",
    "\n",
    "# Implementing Newton Raphson Method\n",
    "\n",
    "def newtonRaphson(x0,e,N):\n",
    "    print('\\n\\n*** NEWTON RAPHSON METHOD IMPLEMENTATION ***')\n",
    "    step = 1\n",
    "    flag = 1\n",
    "    condition = True\n",
    "    while condition:\n",
    "        if g(x0) == 0.0:\n",
    "            print('Divide by zero error!')\n",
    "            break\n",
    "        \n",
    "        x1 = x0 - f(x0)/g(x0)\n",
    "        print('Iteration-%d, x1 = %0.6f and f(x1) = %0.6f' % (step, x1, f(x1)))\n",
    "        x0 = x1\n",
    "        step = step + 1\n",
    "        \n",
    "        if step > N:\n",
    "            flag = 0\n",
    "            break\n",
    "        \n",
    "        condition = abs(f(x1)) > e\n",
    "    \n",
    "    if flag==1:\n",
    "        print('\\nRequired root is: %0.8f' % x1)\n",
    "    else:\n",
    "        print('\\nNot Convergent.')\n",
    "\n",
    "\n",
    "# Input Section\n",
    "print(\"f4(x)\")\n",
    "x0 = float(input('Enter Guess: '))\n",
    "e = float(input('Tolerable Error: '))\n",
    "N = int(input('Maximum Step: '))\n",
    "\n",
    "\n",
    "# Starting Newton Raphson Method\n",
    "newtonRaphson(x0,e,N)"
   ]
  },
  {
   "cell_type": "code",
   "execution_count": 9,
   "metadata": {},
   "outputs": [
    {
     "name": "stdout",
     "output_type": "stream",
     "text": [
      "Enter x0: 5\n",
      "Tolerable Error: 0.001\n",
      "Maximum Step: 34\n",
      "\n",
      "\n",
      "*** FIXED POINT ITERATION ***\n",
      "Iteration-1, x1 = 4.33585 and g(x1) = 3.96313\n",
      "Iteration-2, x1 = 3.96313 and g(x1) = 3.74668\n",
      "Iteration-3, x1 = 3.74668 and g(x1) = 3.61831\n",
      "Iteration-4, x1 = 3.61831 and g(x1) = 3.54119\n",
      "Iteration-5, x1 = 3.54119 and g(x1) = 3.4945\n",
      "Iteration-6, x1 = 3.4945 and g(x1) = 3.4661\n",
      "Iteration-7, x1 = 3.4661 and g(x1) = 3.44877\n",
      "Iteration-8, x1 = 3.44877 and g(x1) = 3.43817\n",
      "Iteration-9, x1 = 3.43817 and g(x1) = 3.43169\n",
      "Iteration-10, x1 = 3.43169 and g(x1) = 3.42772\n",
      "Iteration-11, x1 = 3.42772 and g(x1) = 3.42529\n",
      "Iteration-12, x1 = 3.42529 and g(x1) = 3.4238\n",
      "Iteration-13, x1 = 3.4238 and g(x1) = 3.42288\n",
      "Iteration-14, x1 = 3.42288 and g(x1) = 3.42232\n",
      "Iteration-15, x1 = 3.42232 and g(x1) = 3.42198\n",
      "Iteration-16, x1 = 3.42198 and g(x1) = 3.42177\n",
      "Iteration-17, x1 = 3.42177 and g(x1) = 3.42164\n",
      "Iteration-18, x1 = 3.42164 and g(x1) = 3.42156\n",
      "Iteration-19, x1 = 3.42156 and g(x1) = 3.42151\n",
      "Iteration-20, x1 = 3.42151 and g(x1) = 3.42148\n",
      "Iteration-21, x1 = 3.42148 and g(x1) = 3.42147\n",
      "Iteration-22, x1 = 3.42147 and g(x1) = 3.42145\n",
      "Iteration-23, x1 = 3.42145 and g(x1) = 3.42145\n",
      "Iteration-24, x1 = 3.42145 and g(x1) = 3.42144\n",
      "Iteration-25, x1 = 3.42144 and g(x1) = 3.42144\n",
      "Iteration-26, x1 = 3.42144 and g(x1) = 3.42144\n",
      "Iteration-27, x1 = 3.42144 and g(x1) = 3.42144\n",
      "Iteration-28, x1 = 3.42144 and g(x1) = 3.42144\n",
      "Iteration-29, x1 = 3.42144 and g(x1) = 3.42144\n",
      "Iteration-30, x1 = 3.42144 and g(x1) = 3.42144\n",
      "Iteration-31, x1 = 3.42144 and g(x1) = 3.42144\n",
      "Iteration-32, x1 = 3.42144 and g(x1) = 3.42144\n",
      "Iteration-33, x1 = 3.42144 and g(x1) = 3.42144\n",
      "Iteration-34, x1 = 3.42144 and g(x1) = 3.42144\n",
      "\n",
      "Not Convergent.\n"
     ]
    }
   ],
   "source": [
    "def f(x):\n",
    "    return (x-1)**3+0.512\n",
    "\n",
    "# Re-writing f(x)=0 to x = g(x)\n",
    "def g(x):\n",
    "    return (3*x**2+x+1.512)**(1/3)\n",
    "\n",
    "# Implementing Fixed Point Iteration Method\n",
    "def fixedPointIteration(x0, e, N):\n",
    "    print('\\n\\n*** FIXED POINT ITERATION ***')\n",
    "    step = 1\n",
    "    flag = 1\n",
    "    condition = True\n",
    "    while condition:\n",
    "        x1 = g(x0)\n",
    "        print('Iteration-%d, x1 = %0.6g and g(x1) = %0.6g' % (step, x1, g(x1)))\n",
    "        x0 = x1\n",
    "\n",
    "        step = step + 1\n",
    "        \n",
    "        if step > N:\n",
    "            flag=0\n",
    "            break\n",
    "        \n",
    "        condition = abs(f(x1)) > e\n",
    "\n",
    "    if flag==1:\n",
    "        print('\\nRequired root is: %0.8g' % x1)\n",
    "    else:\n",
    "        print('\\nNot Convergent.')\n",
    "\n",
    "\n",
    "x0 = float(input('Enter x0: '))\n",
    "e = float(input('Tolerable Error: '))\n",
    "N = int(input('Maximum Step: '))\n",
    "\n",
    "fixedPointIteration(x0,e,N)\n"
   ]
  },
  {
   "cell_type": "code",
   "execution_count": null,
   "metadata": {},
   "outputs": [],
   "source": []
  }
 ],
 "metadata": {
  "kernelspec": {
   "display_name": "Python 3",
   "language": "python",
   "name": "python3"
  },
  "language_info": {
   "codemirror_mode": {
    "name": "ipython",
    "version": 3
   },
   "file_extension": ".py",
   "mimetype": "text/x-python",
   "name": "python",
   "nbconvert_exporter": "python",
   "pygments_lexer": "ipython3",
   "version": "3.8.3"
  }
 },
 "nbformat": 4,
 "nbformat_minor": 4
}
